{
  "nbformat": 4,
  "nbformat_minor": 0,
  "metadata": {
    "colab": {
      "name": "logstic_regression.ipynb",
      "private_outputs": true,
      "provenance": [],
      "collapsed_sections": []
    },
    "kernelspec": {
      "name": "python3",
      "display_name": "Python 3"
    },
    "language_info": {
      "name": "python"
    }
  },
  "cells": [
    {
      "cell_type": "markdown",
      "source": [
        "Name :- Jalendar Reddy Maligireddy\n",
        "\n",
        "\n",
        "student id:-11511290"
      ],
      "metadata": {
        "id": "vSE5pWd2JE2E"
      }
    },
    {
      "cell_type": "code",
      "execution_count": null,
      "metadata": {
        "id": "K8XqefLeRCBN"
      },
      "outputs": [],
      "source": [
        "# importing required packages\n",
        "import pandas as pd\n",
        "import numpy as np"
      ]
    },
    {
      "cell_type": "code",
      "source": [
        "# import the csv file\n",
        "df = pd.read_csv(\"winequality-red.csv\")"
      ],
      "metadata": {
        "id": "OmL1jkBCRMjG"
      },
      "execution_count": null,
      "outputs": []
    },
    {
      "cell_type": "code",
      "source": [
        "df"
      ],
      "metadata": {
        "id": "J42EW4eLRXgT"
      },
      "execution_count": null,
      "outputs": []
    },
    {
      "cell_type": "code",
      "source": [
        "df_col=df[\"quality\"].value_counts()"
      ],
      "metadata": {
        "id": "XeReVi_QRaxR"
      },
      "execution_count": null,
      "outputs": []
    },
    {
      "cell_type": "code",
      "source": [
        "df_col"
      ],
      "metadata": {
        "id": "uJwGzqBWReJL"
      },
      "execution_count": null,
      "outputs": []
    },
    {
      "cell_type": "code",
      "source": [
        "df.describe()"
      ],
      "metadata": {
        "id": "X-c1x4gQReyG"
      },
      "execution_count": null,
      "outputs": []
    },
    {
      "cell_type": "code",
      "source": [
        "df.info()"
      ],
      "metadata": {
        "id": "Un1Mt1KhRiyb"
      },
      "execution_count": null,
      "outputs": []
    },
    {
      "cell_type": "code",
      "source": [
        "df.isnull().sum(axis=0)"
      ],
      "metadata": {
        "id": "Jfz7pF8sRmze"
      },
      "execution_count": null,
      "outputs": []
    },
    {
      "cell_type": "code",
      "source": [
        "df[\"Quality of Wine\"]=np.select(([(df[\"quality\"]<5),(df[\"quality\"]<7)]),([0,1]))"
      ],
      "metadata": {
        "id": "CIAls_FqR_aL"
      },
      "execution_count": null,
      "outputs": []
    },
    {
      "cell_type": "code",
      "source": [
        "df"
      ],
      "metadata": {
        "id": "zEDlCjFsTuW4"
      },
      "execution_count": null,
      "outputs": []
    },
    {
      "cell_type": "code",
      "source": [
        "df_col=df[\"Quality of Wine\"].value_counts()"
      ],
      "metadata": {
        "id": "kKwd3Ll2c0r6"
      },
      "execution_count": null,
      "outputs": []
    },
    {
      "cell_type": "code",
      "source": [
        "df_col"
      ],
      "metadata": {
        "id": "o-yzF1xQTvdB"
      },
      "execution_count": null,
      "outputs": []
    },
    {
      "cell_type": "code",
      "source": [
        "df=df.drop('quality', axis=1)"
      ],
      "metadata": {
        "id": "YHtX-A-LT5E4"
      },
      "execution_count": null,
      "outputs": []
    },
    {
      "cell_type": "code",
      "source": [
        "df.info()"
      ],
      "metadata": {
        "id": "0KHZvquJT61A"
      },
      "execution_count": null,
      "outputs": []
    },
    {
      "cell_type": "code",
      "source": [
        "df.corr"
      ],
      "metadata": {
        "id": "ert67tfLT84l"
      },
      "execution_count": null,
      "outputs": []
    },
    {
      "cell_type": "code",
      "source": [
        "import seaborn as sns"
      ],
      "metadata": {
        "id": "ss2T19SfUS0d"
      },
      "execution_count": null,
      "outputs": []
    },
    {
      "cell_type": "code",
      "source": [
        ""
      ],
      "metadata": {
        "id": "4XGuK3dRYr6j"
      },
      "execution_count": null,
      "outputs": []
    },
    {
      "cell_type": "code",
      "source": [
        "header = df.columns.tolist()\n",
        "sns_plot = sns.pairplot(df)"
      ],
      "metadata": {
        "id": "THji-t9kWDYV"
      },
      "execution_count": null,
      "outputs": []
    },
    {
      "cell_type": "code",
      "source": [
        "df.columns"
      ],
      "metadata": {
        "id": "n3hKGU_eWS5m"
      },
      "execution_count": null,
      "outputs": []
    },
    {
      "cell_type": "code",
      "source": [
        "from sklearn.model_selection import train_test_split\n",
        "\n",
        "X = df.drop('Quality of Wine', axis=1)\n",
        "y = df['Quality of Wine']\n",
        "\n",
        "X_train, X_test, y_train, y_test = train_test_split(X, y,test_size=0.2,random_state=123)"
      ],
      "metadata": {
        "id": "0RPC5FI0Y0_x"
      },
      "execution_count": null,
      "outputs": []
    },
    {
      "cell_type": "code",
      "source": [
        "print(\"X_train shape :- \",X_train.shape)\n",
        "print(\"X_test shape :- \",X_test.shape)\n",
        "print(\"y_train shape :- \",y_train.shape)\n",
        "print(\"y_test shape :- \",y_test.shape)"
      ],
      "metadata": {
        "id": "IkNHX74HOuTm"
      },
      "execution_count": null,
      "outputs": []
    },
    {
      "cell_type": "code",
      "source": [
        "from sklearn.linear_model import LogisticRegression\n",
        "\n",
        "log_reg = LogisticRegression(max_iter = 10000,C = 80,multi_class = 'multinomial')\n",
        "\n",
        "log_reg.fit(X_train, y_train)\n",
        "y_pred = log_reg.predict(X_test)"
      ],
      "metadata": {
        "id": "m7eo5NXtZU-U"
      },
      "execution_count": null,
      "outputs": []
    },
    {
      "cell_type": "code",
      "source": [
        "from sklearn.model_selection import cross_validate\n",
        "\n",
        "cross_val_result = cross_validate(log_reg,X, y,cv=5)"
      ],
      "metadata": {
        "id": "eMDhyB7BZe0h"
      },
      "execution_count": null,
      "outputs": []
    },
    {
      "cell_type": "code",
      "source": [
        ""
      ],
      "metadata": {
        "id": "X5j-On6_0gQx"
      },
      "execution_count": null,
      "outputs": []
    },
    {
      "cell_type": "code",
      "source": [
        "cross_val_result"
      ],
      "metadata": {
        "id": "3j_AdWLHb4lB"
      },
      "execution_count": null,
      "outputs": []
    },
    {
      "cell_type": "code",
      "source": [
        "from sklearn.metrics import accuracy_score\n",
        "accuracy=accuracy_score(y_pred, y_test)\n",
        "print(accuracy)"
      ],
      "metadata": {
        "id": "LDFv4ytgy5yD"
      },
      "execution_count": null,
      "outputs": []
    },
    {
      "cell_type": "code",
      "source": [
        "import matplotlib.pyplot as plt \n",
        "import seaborn as sn\n"
      ],
      "metadata": {
        "id": "MAE2lJF0dm0h"
      },
      "execution_count": null,
      "outputs": []
    },
    {
      "cell_type": "code",
      "source": [
        "df_copy = df.copy()\n",
        "\n",
        "df = pd.DataFrame(df_copy,columns=df.columns)\n",
        "\n",
        "corr_Matrix = df.corr()\n",
        "sn.heatmap(corr_Matrix, annot=True)\n",
        "plt.show()"
      ],
      "metadata": {
        "id": "TaIJKeEia2ok"
      },
      "execution_count": null,
      "outputs": []
    },
    {
      "cell_type": "code",
      "source": [
        "# Confusion Matrix\n",
        "from sklearn.metrics import confusion_matrix\n",
        "print(\"Confusion Matrix :- \",confusion_matrix(y_test, y_pred))\n",
        "# Accuracy\n",
        "from sklearn.metrics import accuracy_score\n",
        "print(\"Accuracy Score :- \",accuracy_score(y_test, y_pred))\n",
        "# Recall\n",
        "from sklearn.metrics import recall_score\n",
        "print(\"Recall Score :- \",recall_score(y_test, y_pred, average=None))\n",
        "# Precision\n",
        "from sklearn.metrics import precision_score\n",
        "print(\"Precision Score :- \",precision_score(y_test, y_pred, average=None))"
      ],
      "metadata": {
        "id": "RSQONbQkaTce"
      },
      "execution_count": null,
      "outputs": []
    },
    {
      "cell_type": "code",
      "source": [
        "from sklearn.metrics import classification_report\n",
        "print(classification_report(y_test, y_pred))"
      ],
      "metadata": {
        "id": "rjl3C2dpbXu4"
      },
      "execution_count": null,
      "outputs": []
    },
    {
      "cell_type": "code",
      "source": [
        ""
      ],
      "metadata": {
        "id": "4K-QCFr302AZ"
      },
      "execution_count": null,
      "outputs": []
    }
  ]
}
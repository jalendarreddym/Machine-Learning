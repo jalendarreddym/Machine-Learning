{
  "nbformat": 4,
  "nbformat_minor": 0,
  "metadata": {
    "colab": {
      "name": "Jalendar_logistic_regression.ipynb",
      "private_outputs": true,
      "provenance": []
    },
    "kernelspec": {
      "name": "python3",
      "display_name": "Python 3"
    },
    "language_info": {
      "name": "python"
    }
  },
  "cells": [
    {
      "cell_type": "markdown",
      "source": [
        "Name :- Jalendar Reddy Maligireddy\n",
        "\n",
        "\n",
        "student id:-11511290"
      ],
      "metadata": {
        "id": "Ae4dXVfbT-kO"
      }
    },
    {
      "cell_type": "code",
      "source": [
        "import pandas as pd\n",
        "import numpy as np"
      ],
      "metadata": {
        "id": "L7nU1h0XT7XF"
      },
      "execution_count": null,
      "outputs": []
    },
    {
      "cell_type": "code",
      "source": [
        "df = pd.read_csv(\"winequality-red.csv\")\n",
        "df"
      ],
      "metadata": {
        "id": "rdq7zLEuUB11"
      },
      "execution_count": null,
      "outputs": []
    },
    {
      "cell_type": "code",
      "source": [
        "df['alcohol'].describe()"
      ],
      "metadata": {
        "id": "nj3ZO8d7U_Qi"
      },
      "execution_count": null,
      "outputs": []
    },
    {
      "cell_type": "code",
      "source": [
        "df_col=df[\"quality\"].value_counts()"
      ],
      "metadata": {
        "id": "9U6utf3hUDq8"
      },
      "execution_count": null,
      "outputs": []
    },
    {
      "cell_type": "code",
      "source": [
        "df_col"
      ],
      "metadata": {
        "id": "CtRS2oV5UH5a"
      },
      "execution_count": null,
      "outputs": []
    },
    {
      "cell_type": "code",
      "source": [
        "df.describe()"
      ],
      "metadata": {
        "id": "f2TPBknEUJPU"
      },
      "execution_count": null,
      "outputs": []
    },
    {
      "cell_type": "code",
      "source": [
        "df.info()"
      ],
      "metadata": {
        "id": "d2J4304NVJl0"
      },
      "execution_count": null,
      "outputs": []
    },
    {
      "cell_type": "code",
      "source": [
        "df.isnull().sum(axis=0)"
      ],
      "metadata": {
        "id": "R5dzGTqVVSsS"
      },
      "execution_count": null,
      "outputs": []
    },
    {
      "cell_type": "code",
      "source": [
        "df[\"Quality of Wine\"]=np.select(([(df[\"quality\"]<=7),(df[\"quality\"]>7)]),([0,1]))"
      ],
      "metadata": {
        "id": "6i_y9xNfVUub"
      },
      "execution_count": null,
      "outputs": []
    },
    {
      "cell_type": "code",
      "source": [
        "df"
      ],
      "metadata": {
        "id": "BQ4Ui7upVaew"
      },
      "execution_count": null,
      "outputs": []
    },
    {
      "cell_type": "code",
      "source": [
        "df_col=df[\"Quality of Wine\"].value_counts()"
      ],
      "metadata": {
        "id": "Z4iQnG2PVbvM"
      },
      "execution_count": null,
      "outputs": []
    },
    {
      "cell_type": "code",
      "source": [
        "df_col"
      ],
      "metadata": {
        "id": "hPpPJYQdVdyD"
      },
      "execution_count": null,
      "outputs": []
    },
    {
      "cell_type": "code",
      "source": [
        "print(\"The Total number of rows : \",855+744)"
      ],
      "metadata": {
        "id": "735SsadtViRj"
      },
      "execution_count": null,
      "outputs": []
    },
    {
      "cell_type": "code",
      "source": [
        "df=df.drop('quality', axis=1)"
      ],
      "metadata": {
        "id": "RueJyAusVlAn"
      },
      "execution_count": null,
      "outputs": []
    },
    {
      "cell_type": "code",
      "source": [
        "df.info()"
      ],
      "metadata": {
        "id": "gQci_0YbVyER"
      },
      "execution_count": null,
      "outputs": []
    },
    {
      "cell_type": "code",
      "source": [
        "df.corr"
      ],
      "metadata": {
        "id": "j2NB7PB6V0Q_"
      },
      "execution_count": null,
      "outputs": []
    },
    {
      "cell_type": "code",
      "source": [
        "import seaborn as sns"
      ],
      "metadata": {
        "id": "d-MpAZf_V2DP"
      },
      "execution_count": null,
      "outputs": []
    },
    {
      "cell_type": "code",
      "source": [
        "header = df.columns.tolist()\n",
        "sns_plot = sns.pairplot(df)"
      ],
      "metadata": {
        "id": "d7xB1i0tV4Ml"
      },
      "execution_count": null,
      "outputs": []
    },
    {
      "cell_type": "code",
      "source": [
        "df.columns"
      ],
      "metadata": {
        "id": "EYcQ1mHPV50Z"
      },
      "execution_count": null,
      "outputs": []
    },
    {
      "cell_type": "code",
      "source": [
        "from sklearn.model_selection import train_test_split\n",
        "\n",
        "X = df.drop('Quality of Wine', axis=1)\n",
        "y = df['Quality of Wine']\n",
        "\n",
        "X_train, X_test, y_train, y_test = train_test_split(X, y,test_size=0.2,random_state=123)"
      ],
      "metadata": {
        "id": "uSAYR0MRV7hw"
      },
      "execution_count": null,
      "outputs": []
    },
    {
      "cell_type": "code",
      "source": [
        "print(\"X_train shape :- \",X_train.shape)\n",
        "print(\"X_test shape :- \",X_test.shape)\n",
        "print(\"y_train shape :- \",y_train.shape)\n",
        "print(\"y_test shape :- \",y_test.shape)"
      ],
      "metadata": {
        "id": "dhg4p3fIWA0m"
      },
      "execution_count": null,
      "outputs": []
    },
    {
      "cell_type": "code",
      "source": [
        "from sklearn.linear_model import LogisticRegression\n",
        "\n",
        "log_reg = LogisticRegression(max_iter = 10000,C = 80,multi_class = 'multinomial')\n",
        "\n",
        "log_reg.fit(X_train, y_train)\n",
        "y_pred = log_reg.predict(X_test)"
      ],
      "metadata": {
        "id": "2qjH2rpaWBa0"
      },
      "execution_count": null,
      "outputs": []
    },
    {
      "cell_type": "code",
      "source": [
        "from sklearn.model_selection import cross_validate\n",
        "\n",
        "cross_val_result = cross_validate(log_reg,X, y,cv=5)"
      ],
      "metadata": {
        "id": "1UzjTI8XWDjO"
      },
      "execution_count": null,
      "outputs": []
    },
    {
      "cell_type": "code",
      "source": [
        "cross_val_result"
      ],
      "metadata": {
        "id": "mwqUfq9WWFx1"
      },
      "execution_count": null,
      "outputs": []
    },
    {
      "cell_type": "code",
      "source": [
        "from sklearn.metrics import accuracy_score\n",
        "accuracy=accuracy_score(y_pred, y_test)\n",
        "print(accuracy)"
      ],
      "metadata": {
        "id": "lDN46n22WHya"
      },
      "execution_count": null,
      "outputs": []
    },
    {
      "cell_type": "code",
      "source": [
        "import matplotlib.pyplot as plt \n",
        "import seaborn as sn"
      ],
      "metadata": {
        "id": "iBGdWKYIWJld"
      },
      "execution_count": null,
      "outputs": []
    },
    {
      "cell_type": "code",
      "source": [
        "df_copy = df.copy()\n",
        "\n",
        "df = pd.DataFrame(df_copy,columns=df.columns)\n",
        "\n",
        "corr_Matrix = df.corr()\n",
        "sn.heatmap(corr_Matrix, annot=True)\n",
        "plt.show()"
      ],
      "metadata": {
        "id": "70cThFUlWL4O"
      },
      "execution_count": null,
      "outputs": []
    },
    {
      "cell_type": "code",
      "source": [
        "# Confusion Matrix\n",
        "from sklearn.metrics import confusion_matrix\n",
        "print(\"Confusion Matrix :- \",confusion_matrix(y_test, y_pred))\n",
        "# Accuracy\n",
        "from sklearn.metrics import accuracy_score\n",
        "print(\"Accuracy Score :- \",accuracy_score(y_test, y_pred))\n",
        "# Recall\n",
        "from sklearn.metrics import recall_score\n",
        "print(\"Recall Score :- \",recall_score(y_test, y_pred, average=None))\n",
        "# Precision\n",
        "from sklearn.metrics import precision_score\n",
        "print(\"Precision Score :- \",precision_score(y_test, y_pred, average=None))"
      ],
      "metadata": {
        "id": "HkcFTBYNWOHA"
      },
      "execution_count": null,
      "outputs": []
    },
    {
      "cell_type": "code",
      "source": [
        "from sklearn.metrics import classification_report\n",
        "print(classification_report(y_test, y_pred))"
      ],
      "metadata": {
        "id": "rsuoqq6eWUh3"
      },
      "execution_count": null,
      "outputs": []
    },
    {
      "cell_type": "code",
      "source": [
        ""
      ],
      "metadata": {
        "id": "EMAZ03Q_WXjR"
      },
      "execution_count": null,
      "outputs": []
    }
  ]
}